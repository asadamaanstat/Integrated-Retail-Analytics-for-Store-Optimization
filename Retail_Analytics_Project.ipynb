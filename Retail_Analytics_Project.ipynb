{
  "cells": [
    {
      "cell_type": "markdown",
      "metadata": {
        "id": "vncDsAP0Gaoa"
      },
      "source": [
        "# **Project Name**    - Integrated Retail Analytics for Store Optimization"
      ]
    },
    {
      "cell_type": "markdown",
      "metadata": {
        "id": "beRrZCGUAJYm"
      },
      "source": [
        "##### **Project Type**    - EDA + Regression (Sales Forecasting)\n",
        "##### **Contribution**    - Individual"
      ]
    },
    {
      "cell_type": "markdown",
      "metadata": {
        "id": "FJNUwmbgGyua"
      },
      "source": [
        "# **Project Summary -**\n",
        "\n",
        "This project focuses on **retail analytics for store optimization** using advanced Machine Learning methods.\n",
        "The aim is to analyze and predict **weekly sales** across multiple stores and departments by leveraging historical sales,\n",
        "store-level attributes, and external factors such as holidays, temperature, fuel prices, markdown campaigns, CPI,\n",
        "and unemployment.\n",
        "\n",
        "The dataset comprises three integrated parts:\n",
        "\n",
        "- **Sales dataset**: Weekly sales data per store and department, with holiday indicators.  \n",
        "- **Stores dataset**: Metadata about each store such as type and size.  \n",
        "- **Features dataset**: Additional economic and promotional features (fuel price, temperature, markdowns, CPI, etc.).  \n",
        "\n",
        "The workflow includes:\n",
        "\n",
        "1. **Data Preparation & Merging**: Combining the three datasets into one master table.  \n",
        "2. **Exploratory Data Analysis (EDA)**: Understanding sales trends, holiday impacts, and store performance.  \n",
        "3. **Feature Engineering**: Creating new time-based features, encoding store type, handling missing values.  \n",
        "4. **Modeling**: Building baseline Linear Regression and advanced Random Forest models to predict weekly sales.  \n",
        "5. **Evaluation**: Comparing models using RMSE and R².  \n",
        "6. **Insights**: Identifying factors driving sales (e.g., store type, holidays, markdowns), and generating actionable insights for store optimization.\n",
        "\n",
        "This project provides both predictive power (forecasting sales) and prescriptive insights (what drives sales),\n",
        "which can help retailers optimize operations, manage inventory, and improve promotions.\n"
      ]
    },
    {
      "cell_type": "markdown",
      "metadata": {
        "id": "F6v_1wHtG2nS"
      },
      "source": [
        "Write the summary here within 500-600 words."
      ]
    },
    {
      "cell_type": "markdown",
      "metadata": {
        "id": "w6K7xa23Elo4"
      },
      "source": [
        "# **GitHub Link -**"
      ]
    },
    {
      "cell_type": "markdown",
      "metadata": {
        "id": "h1o69JH3Eqqn"
      },
      "source": [
        "\n",
        "https://github.com/asadamaanstat/Integrated-Retail-Analytics-for-Store-Optimization.git"
      ]
    },
    {
      "cell_type": "markdown",
      "metadata": {
        "id": "yQaldy8SH6Dl"
      },
      "source": [
        "# **Problem Statement**\n"
      ]
    },
    {
      "cell_type": "markdown",
      "metadata": {
        "id": "DpeJGUA3kjGy"
      },
      "source": [
        "**Problem Statement**: Build a machine learning model to predict **weekly sales** for different stores and departments, incorporating store-level details, promotional markdowns, holiday effects, and economic indicators. The goal is to provide both accurate forecasts and actionable insights for store optimization."
      ]
    },
    {
      "cell_type": "markdown",
      "metadata": {
        "id": "O_i_v8NEhb9l"
      },
      "source": [
        "# ***Let's Begin !***"
      ]
    },
    {
      "cell_type": "markdown",
      "metadata": {
        "id": "HhfV-JJviCcP"
      },
      "source": [
        "##  Know Your Data"
      ]
    },
    {
      "cell_type": "markdown",
      "metadata": {
        "id": "Y3lxredqlCYt"
      },
      "source": [
        "### Import Libraries"
      ]
    },
    {
      "cell_type": "code",
      "execution_count": null,
      "metadata": {
        "id": "M8Vqi-pPk-HR"
      },
      "outputs": [],
      "source": [
        "# Import Libraries\n",
        "import pandas as pd\n",
        "import numpy as np\n",
        "import matplotlib.pyplot as plt\n",
        "import seaborn as sns\n",
        "from sklearn.model_selection import train_test_split\n",
        "from sklearn.linear_model import LinearRegression\n",
        "from sklearn.ensemble import RandomForestRegressor\n",
        "from sklearn.metrics import mean_squared_error, r2_score"
      ]
    },
    {
      "cell_type": "markdown",
      "metadata": {
        "id": "3RnN4peoiCZX"
      },
      "source": [
        "### Dataset Loading"
      ]
    },
    {
      "cell_type": "code",
      "execution_count": null,
      "metadata": {
        "id": "4CkvbW_SlZ_R"
      },
      "outputs": [],
      "source": [
        "# Load Dataset\n",
        "sales = pd.read_csv(\"sales data-set.csv\")\n",
        "stores = pd.read_csv(\"stores data-set.csv\")\n",
        "features = pd.read_csv(\"Features data set.csv\")\n"
      ]
    },
    {
      "cell_type": "markdown",
      "metadata": {
        "id": "x71ZqKXriCWQ"
      },
      "source": [
        "### Dataset First View"
      ]
    },
    {
      "cell_type": "code",
      "execution_count": null,
      "metadata": {
        "id": "LWNFOSvLl09H"
      },
      "outputs": [],
      "source": [
        "# Dataset First Look\n",
        "display(sales.head())\n",
        "display(stores.head())\n",
        "display(features.head())"
      ]
    },
    {
      "cell_type": "markdown",
      "metadata": {
        "id": "7hBIi_osiCS2"
      },
      "source": [
        "### Dataset Rows & Columns count"
      ]
    },
    {
      "cell_type": "code",
      "execution_count": null,
      "metadata": {
        "id": "Kllu7SJgmLij"
      },
      "outputs": [],
      "source": [
        "# Dataset Rows & Columns count\n",
        "print(\"Sales :\",sales.shape)\n",
        "print(\"Stores :\",stores.shape)\n",
        "print(\"Features :\",features.shape)"
      ]
    },
    {
      "cell_type": "markdown",
      "metadata": {
        "id": "JlHwYmJAmNHm"
      },
      "source": [
        "### Data Exploration"
      ]
    },
    {
      "cell_type": "code",
      "execution_count": null,
      "metadata": {
        "id": "e9hRXRi6meOf"
      },
      "outputs": [],
      "source": [
        "# Dataset Info\n",
        "print('Shape:', sales.shape)\n",
        "print('\\nInfo:')\n",
        "print(sales.info())\n",
        "print('\\nDescribe:')\n",
        "display(sales.describe())\n",
        "\n",
        "print('\\nHead:')\n",
        "display(sales.head())\n",
        "\n",
        "print('\\nTail:')\n",
        "display(sales.tail())\n",
        "\n",
        "print('Shape:', stores.shape)\n",
        "print('\\nInfo:')\n",
        "print(stores.info())\n",
        "print('\\nDescribe:')\n",
        "display(stores.describe())\n",
        "\n",
        "print('\\nHead:')\n",
        "display(stores.head())\n",
        "\n",
        "print('\\nTail:')\n",
        "display(stores.tail())\n",
        "\n",
        "print('Shape:', features.shape)\n",
        "print('\\nInfo:')\n",
        "print(features.info())\n",
        "print('\\nDescribe:')\n",
        "display(features.describe())\n",
        "\n",
        "print('\\nHead:')\n",
        "display(sales.head())\n",
        "\n",
        "print('\\nTail:')\n",
        "display(sales.tail())"
      ]
    },
    {
      "cell_type": "markdown",
      "metadata": {
        "id": "35m5QtbWiB9F"
      },
      "source": [
        "#### Data Cleaning: Missing Values, Duplicates, Sanity Checks"
      ]
    },
    {
      "cell_type": "code",
      "execution_count": null,
      "metadata": {
        "id": "1sLdpKYkmox0"
      },
      "outputs": [],
      "source": [
        "# Dataset Duplicate Value Count\n",
        "print('Missing values per column:\\n', sales.isnull().sum())\n",
        "print('\\nDuplicate rows:', sales.duplicated().sum())\n",
        "\n",
        "# Basic sanity checks (examples)\n",
        "print('\\nNegative income rows:', (sales['Annual_Income'] < 0).sum() if 'Annual_Income' in sales.columns else 'N/A')\n",
        "print('Unrealistic ages (< 18 or > 90):', ((sales['Age'] < 18) | (sales['Age'] > 90)).sum() if 'Age' in sales.columns else 'N/A')"
      ]
    },
    {
      "cell_type": "markdown",
      "metadata": {
        "id": "nA9Y7ga8ng1Z"
      },
      "source": [
        "##  Merging the Dataset"
      ]
    },
    {
      "cell_type": "code",
      "execution_count": null,
      "metadata": {
        "id": "j7xfkqrt5Ag5"
      },
      "outputs": [],
      "source": [
        "# Dataset Columns\n",
        "sales['Date'] = pd.to_datetime(sales['Date'], format=\"%d/%m/%Y\")\n",
        "features['Date'] = pd.to_datetime(features['Date'], format=\"%d/%m/%Y\")\n",
        "\n",
        "df = sales.merge(stores, on=\"Store\", how=\"left\")\n",
        "df = df.merge(features, on=[\"Store\", \"Date\"], how=\"left\")\n",
        "\n",
        "df.fillna(0, inplace=True)\n",
        "\n",
        "df.head()"
      ]
    },
    {
      "cell_type": "markdown",
      "source": [
        "### Handling Missing values"
      ],
      "metadata": {
        "id": "h-6O1_QupQE_"
      }
    },
    {
      "cell_type": "code",
      "source": [
        "print(df['Date'].head(10))\n",
        "print(df['Date'].dtype)\n",
        "df['Date'] = pd.to_datetime(df['Date'], errors='coerce')\n",
        "df = df.dropna(subset=['Date'])\n",
        "df = df[df['Date'].dt.year >= 2010]   # Walmart dataset starts from 2010\n",
        "\n",
        "\n"
      ],
      "metadata": {
        "id": "xxn7orrpolhl"
      },
      "execution_count": null,
      "outputs": []
    },
    {
      "cell_type": "markdown",
      "metadata": {
        "id": "GF8Ens_Soomf"
      },
      "source": [
        "##  Data Vizualization : Understand the relationships between variables"
      ]
    },
    {
      "cell_type": "markdown",
      "metadata": {
        "id": "0wOQAZs5pc--"
      },
      "source": [
        "#### Line Grapgh"
      ]
    },
    {
      "cell_type": "code",
      "execution_count": null,
      "metadata": {
        "id": "7v_ESjsspbW7"
      },
      "outputs": [],
      "source": [
        "# visualization code\n",
        "sales_trend = df.groupby(\"Date\")[\"Weekly_Sales\"].sum()\n",
        "sales_trend.plot(figsize=(12,6), marker=\"o\")\n",
        "plt.title(\"Total Weekly Sales Over Time\", fontsize=14)\n",
        "plt.xlabel(\"Date\")\n",
        "plt.ylabel(\"Total Weekly Sales\")\n",
        "#plt.grid(True)\n",
        "plt.show()\n"
      ]
    },
    {
      "cell_type": "markdown",
      "metadata": {
        "id": "K5QZ13OEpz2H"
      },
      "source": [
        "##### 1. Why did you pick the specific chart?"
      ]
    },
    {
      "cell_type": "markdown",
      "metadata": {
        "id": "XESiWehPqBRc"
      },
      "source": [
        "\n",
        "\n",
        "This plot is ideal for time series analysis, showing trends over weeks.\n",
        "\n",
        "Helps detect seasonality, trends, and sudden spikes (like during holidays)\n",
        "\n"
      ]
    },
    {
      "cell_type": "markdown",
      "metadata": {
        "id": "lQ7QKXXCp7Bj"
      },
      "source": [
        "##### 2. What is/are the insight(s) found from the chart?"
      ]
    },
    {
      "cell_type": "markdown",
      "metadata": {
        "id": "C_j1G7yiqdRP"
      },
      "source": [
        "Answer Here"
      ]
    },
    {
      "cell_type": "markdown",
      "metadata": {
        "id": "448CDAPjqfQr"
      },
      "source": [
        "##### 3. Will the gained insights help creating a positive business impact?\n",
        "Are there any insights that lead to negative growth? Justify with specific reason."
      ]
    },
    {
      "cell_type": "markdown",
      "metadata": {
        "id": "3cspy4FjqxJW"
      },
      "source": [
        "Sales generally increase over time, but there are sharp peaks during certain weeks.\n",
        "\n",
        "Peaks coincide with holiday weeks (Thanksgiving, Christmas, etc.), showing strong seasonal demand.\n",
        "\n",
        "Non-holiday weeks show relatively stable baseline sales.\n",
        "\n",
        "Allows planning inventory and staff allocation during peak holiday periods.\n",
        "\n",
        "Enables targeted marketing campaigns to maximize revenue during high-demand periods."
      ]
    },
    {
      "cell_type": "markdown",
      "metadata": {
        "id": "Ag9LCva-p1cl"
      },
      "source": [
        "#### Boxplot"
      ]
    },
    {
      "cell_type": "code",
      "execution_count": null,
      "metadata": {
        "id": "EUfxeq9-p1cl"
      },
      "outputs": [],
      "source": [
        "# visualization code\n",
        "sns.boxplot(x=\"IsHoliday_x\", y=\"Weekly_Sales\", data=df)\n",
        "plt.title(\"Holiday Impact on Weekly Sales\")\n",
        "plt.show()"
      ]
    },
    {
      "cell_type": "markdown",
      "metadata": {
        "id": "E6MkPsBcp1cl"
      },
      "source": [
        "##### 1. Why did you pick the specific chart?"
      ]
    },
    {
      "cell_type": "markdown",
      "metadata": {
        "id": "V22bRsFWp1cl"
      },
      "source": [
        "Boxplots compare distributions between holiday and non-holiday weeks.\n",
        "\n",
        "Useful to see variability and outliers in sales."
      ]
    },
    {
      "cell_type": "markdown",
      "metadata": {
        "id": "2cELzS2fp1cl"
      },
      "source": [
        "##### 2. What is/are the insight(s) found from the chart?"
      ]
    },
    {
      "cell_type": "markdown",
      "metadata": {
        "id": "ozQPc2_Ip1cl"
      },
      "source": [
        "Weekly sales during holidays are significantly higher than non-holiday weeks.\n",
        "\n",
        "Some holidays may show extremely high outliers, indicating exceptional sales events."
      ]
    },
    {
      "cell_type": "markdown",
      "metadata": {
        "id": "3MPXvC8up1cl"
      },
      "source": [
        "##### 3. Will the gained insights help creating a positive business impact?\n",
        "Are there any insights that lead to negative growth? Justify with specific reason."
      ]
    },
    {
      "cell_type": "markdown",
      "metadata": {
        "id": "GL8l1tdLp1cl"
      },
      "source": [
        "Highlights the importance of holidays in driving revenue.\n",
        "\n",
        "Supports planning promotions and stock ahead of holidays for maximum sales.\n",
        "\n",
        "Over-reliance on holiday weeks may cause underperformance in non-holiday periods.\n",
        "\n",
        "Without proper marketing during regular weeks, the business may not grow consistently."
      ]
    },
    {
      "cell_type": "markdown",
      "metadata": {
        "id": "eEvvKFMV9xvV"
      },
      "source": [
        "#### Boxplot"
      ]
    },
    {
      "cell_type": "code",
      "source": [
        "sns.boxplot(x=\"Type\", y=\"Weekly_Sales\", data=df)\n",
        "plt.title(\"Store Type vs Weekly Sales\")\n",
        "plt.show()"
      ],
      "metadata": {
        "id": "vb-x082l90Kh"
      },
      "execution_count": null,
      "outputs": []
    },
    {
      "cell_type": "markdown",
      "metadata": {
        "id": "YPEH6qLeZNRQ"
      },
      "source": [
        "##### 2. What is/are the insight(s) found from the chart?"
      ]
    },
    {
      "cell_type": "markdown",
      "metadata": {
        "id": "bfSqtnDqZNRR"
      },
      "source": [
        "Type A stores have higher median weekly sales than Type B or C.\n",
        "\n",
        "Type C stores show higher variability, suggesting inconsistent performance."
      ]
    },
    {
      "cell_type": "markdown",
      "metadata": {
        "id": "hwDMvi8Q-SXt"
      },
      "source": [
        "##### 3. Will the gained insights help creating a positive business impact?\n",
        "Are there any insights that lead to negative growth? Justify with specific reason."
      ]
    },
    {
      "cell_type": "markdown",
      "metadata": {
        "id": "8sDClW-0-SXu"
      },
      "source": [
        "Helps allocate marketing budget or inventory strategically, prioritizing high-performing stores.\n",
        "\n",
        "Decisions about expansion or remodeling can be guided by store type performance.\n",
        "\n",
        "Type C stores may be underperforming due to location, size, or management issues.\n",
        "\n",
        "Ignoring these insights may waste resources on low-performing stores."
      ]
    },
    {
      "cell_type": "markdown",
      "metadata": {
        "id": "NC_X3p0fY2L0"
      },
      "source": [
        "#### Correlation Heatmap"
      ]
    },
    {
      "cell_type": "code",
      "execution_count": null,
      "metadata": {
        "id": "xyC9zolEZNRQ"
      },
      "outputs": [],
      "source": [
        "# Correlation Heatmap visualization code\n",
        "plt.figure(figsize=(10,6))\n",
        "sns.heatmap(df.select_dtypes(include=['int64','float64']).corr(), cmap=\"coolwarm\", annot=False)\n",
        "plt.title(\"Correlation Heatmap\")\n",
        "plt.show()\n"
      ]
    },
    {
      "cell_type": "markdown",
      "metadata": {
        "id": "UV0SzAkaZNRQ"
      },
      "source": [
        "##### 1. Why did you pick the specific chart?"
      ]
    },
    {
      "cell_type": "markdown",
      "metadata": {
        "id": "DVPuT8LYZNRQ"
      },
      "source": [
        "Heatmap shows relationships between multiple numerical variables.\n",
        "\n",
        "Helps in feature selection for modeling weekly sales."
      ]
    },
    {
      "cell_type": "markdown",
      "metadata": {
        "id": "8wzoaIyf-tcn"
      },
      "source": [
        "##### 2. What is/are the insight(s) found from the chart?"
      ]
    },
    {
      "cell_type": "markdown",
      "metadata": {
        "id": "AcTFGLZd-tco"
      },
      "source": [
        "Markdowns (MarkDown1–5) show positive correlation with Weekly_Sales.\n",
        "\n",
        "Fuel price and CPI show slight negative correlation, meaning higher costs may reduce sales.\n",
        "\n",
        "Unemployment has a weak negative effect on sales."
      ]
    },
    {
      "cell_type": "markdown",
      "metadata": {
        "id": "cfx9TcFG-yOp"
      },
      "source": [
        "##### 3. Will the gained insights help creating a positive business impact?\n",
        "Are there any insights that lead to negative growth? Justify with specific reason."
      ]
    },
    {
      "cell_type": "markdown",
      "metadata": {
        "id": "l_RNiCWg-yOq"
      },
      "source": [
        "Identifies key drivers of sales, e.g., markdown promotions can effectively boost revenue.\n",
        "\n",
        "External factors (CPI, Fuel Price) can guide strategic pricing or regional marketing campaigns.\n",
        "\n",
        "Ignoring correlations like markdowns vs sales may lead to inefficient promotions.\n",
        "\n",
        "Rising CPI or unemployment can reduce customer spending — proactive strategies are needed."
      ]
    },
    {
      "cell_type": "markdown",
      "metadata": {
        "id": "yLjJCtPM0KBk"
      },
      "source": [
        "## Feature Engineering & Data Pre-processing"
      ]
    },
    {
      "cell_type": "markdown",
      "metadata": {
        "id": "89xtkJwZ18nB"
      },
      "source": [
        "###  Categorical Encoding"
      ]
    },
    {
      "cell_type": "code",
      "execution_count": null,
      "metadata": {
        "id": "21JmIYMG2hEo"
      },
      "outputs": [],
      "source": [
        "# Encode your categorical columns\n",
        "df[\"Year\"] = df[\"Date\"].dt.year\n",
        "df[\"Month\"] = df[\"Date\"].dt.month\n",
        "df[\"Week\"] = df[\"Date\"].dt.isocalendar().week"
      ]
    },
    {
      "cell_type": "markdown",
      "source": [
        "### Creating dummies Variables"
      ],
      "metadata": {
        "id": "e-LhKjiw3tH1"
      }
    },
    {
      "cell_type": "code",
      "source": [
        "df = pd.get_dummies(df, columns=[\"Type\"], drop_first=True)\n",
        "df.head()"
      ],
      "metadata": {
        "id": "6TApf7Tn33sR"
      },
      "execution_count": null,
      "outputs": []
    },
    {
      "cell_type": "markdown",
      "metadata": {
        "id": "67NQN5KX2AMe"
      },
      "source": [
        "#### What all categorical encoding techniques have you used & why did you use those techniques?"
      ]
    },
    {
      "cell_type": "markdown",
      "metadata": {
        "id": "UDaue5h32n_G"
      },
      "source": [
        "We used one-hot encoding for the Store Type variable since it’s nominal and has no natural order. This prevents the model from assuming any ranking between categories. The IsHoliday column was already binary, so no additional encoding was needed. For the Date variable, we extracted Year, Month, and Week to capture seasonality and trends. We avoided label encoding because it imposes a false order on categorical values."
      ]
    },
    {
      "cell_type": "markdown",
      "source": [
        "### Splitting of Dataset"
      ],
      "metadata": {
        "id": "FPScPnn_4QZ3"
      }
    },
    {
      "cell_type": "code",
      "source": [
        "X = df.drop(columns=[\"Weekly_Sales\", \"Date\"])\n",
        "y = df[\"Weekly_Sales\"]\n",
        "\n",
        "X_train, X_test, y_train, y_test = train_test_split(X, y, test_size=0.2, random_state=42)"
      ],
      "metadata": {
        "id": "0091yVUQ4aAj"
      },
      "execution_count": null,
      "outputs": []
    },
    {
      "cell_type": "markdown",
      "metadata": {
        "id": "VfCC591jGiD4"
      },
      "source": [
        "## ***7. ML Model Implementation***"
      ]
    },
    {
      "cell_type": "markdown",
      "metadata": {
        "id": "OB4l2ZhMeS1U"
      },
      "source": [
        "## Linear Regression"
      ]
    },
    {
      "cell_type": "code",
      "execution_count": null,
      "metadata": {
        "id": "7ebyywQieS1U"
      },
      "outputs": [],
      "source": [
        "lr = LinearRegression()\n",
        "lr.fit(X_train, y_train)\n",
        "y_pred_lr = lr.predict(X_test)\n",
        "print(\"Linear Regression RMSE:\", np.sqrt(mean_squared_error(y_test, y_pred_lr)))\n",
        "print(\"Linear Regression R²:\", r2_score(y_test, y_pred_lr))\n"
      ]
    },
    {
      "cell_type": "markdown",
      "metadata": {
        "id": "PiV4Ypx8fxKe"
      },
      "source": [
        "##### Which hyperparameter optimization technique have you used and why?"
      ]
    },
    {
      "cell_type": "markdown",
      "metadata": {
        "id": "negyGRa7fxKf"
      },
      "source": [
        "For the Linear Regression model, I directly used scikit-learn’s default implementation without hyperparameter optimization, since it has no significant tunable parameters. The focus was on preparing clean features and encoding categorical variables properly to improve model performance."
      ]
    },
    {
      "cell_type": "markdown",
      "metadata": {
        "id": "dJ2tPlVmpsJ0"
      },
      "source": [
        "## Random Forest"
      ]
    },
    {
      "cell_type": "code",
      "source": [
        "rf = RandomForestRegressor(n_estimators=100, random_state=42)\n",
        "rf.fit(X_train, y_train)\n",
        "y_pred_rf = rf.predict(X_test)\n",
        "print(\"Random Forest RMSE:\", np.sqrt(mean_squared_error(y_test, y_pred_rf)))\n",
        "print(\"Random Forest R²:\", r2_score(y_test, y_pred_rf))\n"
      ],
      "metadata": {
        "id": "yhnV78ST5TJt"
      },
      "execution_count": null,
      "outputs": []
    },
    {
      "cell_type": "markdown",
      "metadata": {
        "id": "g0q6Ua3i5z7x"
      },
      "source": [
        "##### Which hyperparameter optimization technique have you used and why?"
      ]
    },
    {
      "cell_type": "markdown",
      "metadata": {
        "id": "pBB-mAVq5z7y"
      },
      "source": [
        "### Hyperparameter Optimization for Random Forest\n",
        "\n",
        "In this project, I used the default hyperparameters of RandomForestRegressor\n",
        "with `n_estimators=100` and `random_state=42`.  \n",
        "I did not apply an explicit hyperparameter optimization technique such as GridSearchCV\n",
        "or RandomizedSearchCV. The focus was on building a baseline model and comparing it\n",
        "with Linear Regression to evaluate performance improvements.\n",
        "\n",
        "As a next step, hyperparameter optimization (e.g., using GridSearchCV or RandomizedSearchCV)\n",
        "can be applied to further improve model accuracy.\n"
      ]
    },
    {
      "cell_type": "markdown",
      "source": [
        "### Top 15 Feature Importances (Bar Chart from Random Forest)"
      ],
      "metadata": {
        "id": "wluHFzeX_N10"
      }
    },
    {
      "cell_type": "code",
      "source": [
        "# Feature importance\n",
        "importances = pd.Series(rf.feature_importances_, index=X.columns).sort_values(ascending=False)\n",
        "plt.figure(figsize=(10,6))\n",
        "importances.head(15).plot(kind='bar')\n",
        "plt.title(\"Top 15 Feature Importances\")\n",
        "plt.show()"
      ],
      "metadata": {
        "id": "76Is4tPV_WGq"
      },
      "execution_count": null,
      "outputs": []
    },
    {
      "cell_type": "markdown",
      "metadata": {
        "id": "Oht6amcG_nEP"
      },
      "source": [
        "##### 1. Why did you pick the specific chart?"
      ]
    },
    {
      "cell_type": "markdown",
      "metadata": {
        "id": "6EX2hxd1_nEQ"
      },
      "source": [
        "Bar chart clearly shows which features have the most impact on predicting sales.\n",
        "\n",
        "Essential for prioritizing business strategies."
      ]
    },
    {
      "cell_type": "markdown",
      "metadata": {
        "id": "_1gwW9jo_nEQ"
      },
      "source": [
        "##### 2. What is/are the insight(s) found from the chart?"
      ]
    },
    {
      "cell_type": "markdown",
      "metadata": {
        "id": "G33AGf5i_nEQ"
      },
      "source": [
        "Most important features: IsHoliday, Type, Size, MarkDown1, Fuel Price.\n",
        "\n",
        "Holidays and markdowns are strong revenue drivers, while store characteristics affect baseline sales."
      ]
    },
    {
      "cell_type": "markdown",
      "metadata": {
        "id": "wsIqf6zX_nEQ"
      },
      "source": [
        "##### 3. Will the gained insights help creating a positive business impact?\n",
        "Are there any insights that lead to negative growth? Justify with specific reason."
      ]
    },
    {
      "cell_type": "markdown",
      "metadata": {
        "id": "DCbGSdAb_nEQ"
      },
      "source": [
        "Allows data-driven decision making: focus on top drivers for promotions, staffing, and inventory.\n",
        "\n",
        "Optimizing based on top features can maximize ROI.\n",
        "\n",
        "Ignoring less important features like CPI or Unemployment may be risky in economic downturns.\n",
        "\n",
        "Relying solely on top features may cause over-optimization without considering other external factors."
      ]
    },
    {
      "cell_type": "markdown",
      "source": [
        "### Model Performance Comparison"
      ],
      "metadata": {
        "id": "TGQqkqdHkRa-"
      }
    },
    {
      "cell_type": "markdown",
      "source": [
        "We evaluated both **Linear Regression** and **Random Forest** models.  \n",
        "The results clearly show that Random Forest outperforms Linear Regression, as it is able to capture non-linear relationships and interactions between features more effectively.  \n",
        "\n",
        "**Improvement Observed:**\n",
        "- **Lower RMSE** with Random Forest → indicating smaller prediction errors.  \n",
        "- **Higher R² Score** with Random Forest → showing better explanatory power.  \n",
        "\n",
        "| Model              | RMSE   | R² Score |\n",
        "|---------------------|--------|----------|\n",
        "| Linear Regression   | 22607   | 0.13     |\n",
        "| Random Forest       | 3868   | 0.97     |\n",
        "\n",
        "The improvement in metrics suggests that ensemble-based approaches are more suitable for this dataset compared to a simple linear model."
      ],
      "metadata": {
        "id": "J2zW_p8VkVpi"
      }
    },
    {
      "cell_type": "markdown",
      "metadata": {
        "id": "gCX9965dhzqZ"
      },
      "source": [
        "# **Conclusion**"
      ]
    },
    {
      "cell_type": "markdown",
      "metadata": {
        "id": "Fjb1IsQkh3yE"
      },
      "source": [
        "\n",
        "Random Forest outperforms Linear Regression in predicting weekly sales.\n",
        "\n",
        "Store Type, Size, Holidays, and Markdown campaigns strongly influence sales.\n",
        "\n",
        "External factors such as CPI, Unemployment, and Fuel Prices also contribute.\n",
        "\n",
        "These insights can help optimize inventory planning, promotional strategies, and store-level operations.\n",
        "\n",
        "\n"
      ]
    }
  ],
  "metadata": {
    "colab": {
      "collapsed_sections": [
        "vncDsAP0Gaoa",
        "FJNUwmbgGyua",
        "w6K7xa23Elo4",
        "yQaldy8SH6Dl",
        "O_i_v8NEhb9l",
        "Y3lxredqlCYt",
        "3RnN4peoiCZX",
        "x71ZqKXriCWQ",
        "JlHwYmJAmNHm",
        "GF8Ens_Soomf",
        "0wOQAZs5pc--",
        "K5QZ13OEpz2H",
        "lQ7QKXXCp7Bj",
        "Ag9LCva-p1cl",
        "E6MkPsBcp1cl",
        "YPEH6qLeZNRQ",
        "hwDMvi8Q-SXt",
        "NC_X3p0fY2L0",
        "OB4l2ZhMeS1U",
        "PiV4Ypx8fxKe",
        "dJ2tPlVmpsJ0",
        "wluHFzeX_N10",
        "gCX9965dhzqZ"
      ],
      "private_outputs": true,
      "provenance": []
    },
    "kernelspec": {
      "display_name": "Python 3",
      "name": "python3"
    },
    "language_info": {
      "name": "python"
    }
  },
  "nbformat": 4,
  "nbformat_minor": 0
}